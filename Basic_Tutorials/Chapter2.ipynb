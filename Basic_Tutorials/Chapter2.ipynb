{
 "cells": [
  {
   "cell_type": "markdown",
   "metadata": {},
   "source": [
    "https://analyticsindiamag.com/beginners-guide-to-sql-with-python-codes/"
   ]
  },
  {
   "cell_type": "code",
   "execution_count": 1,
   "metadata": {},
   "outputs": [
    {
     "name": "stdout",
     "output_type": "stream",
     "text": [
      "Requirement already satisfied: mysql-connector-python in c:\\users\\susha\\miniconda3\\envs\\mysql\\lib\\site-packages (8.0.29)\n",
      "Requirement already satisfied: protobuf>=3.0.0 in c:\\users\\susha\\miniconda3\\envs\\mysql\\lib\\site-packages (from mysql-connector-python) (4.21.2)\n"
     ]
    }
   ],
   "source": [
    "!pip install mysql-connector-python"
   ]
  },
  {
   "cell_type": "code",
   "execution_count": 5,
   "metadata": {},
   "outputs": [],
   "source": [
    "import mysql.connector\n",
    "db = mysql.connector.connect(host='localhost',user='root',\n",
    "                             passwd='root',\n",
    "                             database='tutorial')"
   ]
  },
  {
   "cell_type": "code",
   "execution_count": 9,
   "metadata": {},
   "outputs": [
    {
     "name": "stdout",
     "output_type": "stream",
     "text": [
      "('information_schema',)\n",
      "('mydb',)\n",
      "('mysql',)\n",
      "('performance_schema',)\n",
      "('sakila',)\n",
      "('school',)\n",
      "('sys',)\n",
      "('test',)\n",
      "('tutorial',)\n",
      "('tutorial1',)\n",
      "('world',)\n"
     ]
    }
   ],
   "source": [
    "import mysql.connector\n",
    "\n",
    "db = mysql.connector.connect(host='localhost',user='root',\n",
    "                             passwd='root')\n",
    "cursor = db.cursor()\n",
    "cursor.execute('CREATE DATABASE tutorial1')\n",
    "cursor.execute('SHOW databases')\n",
    "datasets = cursor.fetchall()\n",
    "for dataset in datasets:\n",
    "    print(dataset)"
   ]
  },
  {
   "cell_type": "code",
   "execution_count": 11,
   "metadata": {},
   "outputs": [
    {
     "name": "stdout",
     "output_type": "stream",
     "text": [
      "('employees',)\n"
     ]
    }
   ],
   "source": [
    "cursor.execute('USE tutorial1')\n",
    "cursor.execute('create table employees(emp_no int NOT NULL Auto_increment Primary key, name varchar(255) NOT NULL, Address nvarchar(100))')\n",
    "cursor.execute('show tables')\n",
    "tables  = cursor.fetchall()\n",
    "for table in tables:\n",
    "    print(table)"
   ]
  },
  {
   "cell_type": "code",
   "execution_count": 12,
   "metadata": {},
   "outputs": [
    {
     "name": "stdout",
     "output_type": "stream",
     "text": [
      "4 rows added\n"
     ]
    }
   ],
   "source": [
    "query = \"INSERT INTO employees (name, address) VALUES (%s, %s)\"\n",
    "values = [\n",
    "    (\"Sam\", \"LA\"),\n",
    "    (\"Mick\", \"NewYork\"),\n",
    "    (\"Michael\", \"HongKong\"),\n",
    "    (\"Neha\", \"Delhi\")]\n",
    "cursor.executemany(query,values)\n",
    "db.commit()\n",
    "print(cursor.rowcount,'rows added')"
   ]
  },
  {
   "cell_type": "code",
   "execution_count": 13,
   "metadata": {},
   "outputs": [
    {
     "name": "stdout",
     "output_type": "stream",
     "text": [
      "('emp_no', b'int', 'NO', 'PRI', None, 'auto_increment')\n",
      "('name', b'varchar(255)', 'NO', '', None, '')\n",
      "('Address', b'varchar(100)', 'YES', '', None, '')\n"
     ]
    }
   ],
   "source": [
    "cursor.execute('DESC employees')\n",
    "describes = cursor.fetchall()\n",
    "for dec in describes:\n",
    "    print(dec)"
   ]
  },
  {
   "cell_type": "code",
   "execution_count": 14,
   "metadata": {},
   "outputs": [
    {
     "name": "stdout",
     "output_type": "stream",
     "text": [
      "(1, 'Sam', 'LA')\n",
      "(2, 'Mick', 'NewYork')\n",
      "(3, 'Michael', 'HongKong')\n",
      "(4, 'Neha', 'Delhi')\n"
     ]
    }
   ],
   "source": [
    "cursor.execute('SELECT * FROM employees')\n",
    "records = cursor.fetchall()\n",
    "for record in records:\n",
    "    print(record)"
   ]
  },
  {
   "cell_type": "code",
   "execution_count": 15,
   "metadata": {},
   "outputs": [
    {
     "name": "stdout",
     "output_type": "stream",
     "text": [
      "[(3, 'Michael', 'HongKong')]\n"
     ]
    }
   ],
   "source": [
    "query = \"SELECT * FROM employees WHERE emp_no = 3\"\n",
    "cursor.execute(query)\n",
    "print(cursor.fetchall())"
   ]
  },
  {
   "cell_type": "code",
   "execution_count": 16,
   "metadata": {},
   "outputs": [
    {
     "name": "stdout",
     "output_type": "stream",
     "text": [
      "(3, 'Michael', 'HongKong')\n",
      "(2, 'Mick', 'NewYork')\n",
      "(4, 'Neha', 'Delhi')\n",
      "(1, 'Sam', 'LA')\n"
     ]
    }
   ],
   "source": [
    "query = \"SELECT * FROM employees ORDER BY name\"\n",
    "cursor.execute(query)\n",
    "results = cursor.fetchall()\n",
    "for result in results:\n",
    "    print(result)"
   ]
  },
  {
   "cell_type": "code",
   "execution_count": 17,
   "metadata": {},
   "outputs": [
    {
     "name": "stdout",
     "output_type": "stream",
     "text": [
      "(2, 'Mick', 'NewYork')\n",
      "(1, 'Sam', 'LA')\n",
      "(3, 'Michael', 'HongKong')\n",
      "(4, 'Neha', 'Delhi')\n"
     ]
    }
   ],
   "source": [
    "query = \"SELECT * FROM employees ORDER BY address DESC\"\n",
    "cursor.execute(query)\n",
    "results = cursor.fetchall()\n",
    "for result in results:\n",
    "    print(result)"
   ]
  },
  {
   "cell_type": "code",
   "execution_count": 18,
   "metadata": {},
   "outputs": [
    {
     "name": "stdout",
     "output_type": "stream",
     "text": [
      "(1, 'Sam', 'LA')\n",
      "(3, 'Michael', 'HongKong')\n",
      "(4, 'Neha', 'Delhi')\n"
     ]
    }
   ],
   "source": [
    "query = \"DELETE FROM employees WHERE emp_no = 2\"\n",
    "cursor.execute(query)\n",
    "db.commit()\n",
    "query = \"SELECT * FROM employees\"\n",
    "cursor.execute(query)\n",
    "results = cursor.fetchall()\n",
    "for result in results:\n",
    "    print(result)"
   ]
  },
  {
   "cell_type": "code",
   "execution_count": 19,
   "metadata": {},
   "outputs": [
    {
     "name": "stdout",
     "output_type": "stream",
     "text": [
      "(1, 'Mohit', 'LA')\n",
      "(3, 'Michael', 'HongKong')\n",
      "(4, 'Neha', 'Delhi')\n"
     ]
    }
   ],
   "source": [
    "query = \"UPDATE employees SET name = 'Mohit' WHERE emp_no = 1\"\n",
    "cursor.execute(query)\n",
    "db.commit()\n",
    "query = \"SELECT * FROM employees\"\n",
    "cursor.execute(query)\n",
    "results = cursor.fetchall()\n",
    "for result in results:\n",
    "    print(result)"
   ]
  },
  {
   "cell_type": "code",
   "execution_count": null,
   "metadata": {},
   "outputs": [],
   "source": []
  }
 ],
 "metadata": {
  "kernelspec": {
   "display_name": "Python 3.8.13 ('mysql')",
   "language": "python",
   "name": "python3"
  },
  "language_info": {
   "codemirror_mode": {
    "name": "ipython",
    "version": 3
   },
   "file_extension": ".py",
   "mimetype": "text/x-python",
   "name": "python",
   "nbconvert_exporter": "python",
   "pygments_lexer": "ipython3",
   "version": "3.8.13"
  },
  "orig_nbformat": 4,
  "vscode": {
   "interpreter": {
    "hash": "cc409700e721ad3d7924187b77ccef5271336bb960f382627e858871bf90ea31"
   }
  }
 },
 "nbformat": 4,
 "nbformat_minor": 2
}
